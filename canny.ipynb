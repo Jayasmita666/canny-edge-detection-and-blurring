{
 "cells": [
  {
   "cell_type": "code",
   "execution_count": 2,
   "id": "24a1d1d9-ad37-485a-92ec-e172a800c8c2",
   "metadata": {},
   "outputs": [],
   "source": []
  },
  {
   "cell_type": "code",
   "execution_count": 4,
   "id": "dee0d89b-42e9-42cc-b587-50d943b5fcd6",
   "metadata": {},
   "outputs": [],
   "source": []
  },
  {
   "cell_type": "code",
   "execution_count": null,
   "id": "f0e399f0-0ab1-4dd4-a32e-09ff8c74b008",
   "metadata": {},
   "outputs": [],
   "source": []
  },
  {
   "cell_type": "code",
   "execution_count": 3,
   "id": "28536ef0-fde7-447a-9d5f-e6199d3061a3",
   "metadata": {},
   "outputs": [],
   "source": [
    "import cv2\n",
    "import numpy as np\n",
    "\n",
    "PRV = 0\n",
    "BLR = 1\n",
    "CNY = 3\n",
    "\n",
    "ftr_params = dict(maxCorners=500, qualityLevel=0.2, minDistance=15, blockSize=9)\n",
    "s = 0\n",
    "src = cv2.VideoCapture(s)\n",
    "\n",
    "img_filter = PRV\n",
    "alive = True\n",
    "\n",
    "win = 'Cam'\n",
    "cv2.namedWindow(win, cv2.WINDOW_NORMAL)\n",
    "\n",
    "while alive:\n",
    "    has_frame, frame = src.read()\n",
    "    if not has_frame:\n",
    "        break\n",
    "\n",
    "    frame = cv2.flip(frame, 1)\n",
    "\n",
    "    if img_filter == PRV:\n",
    "        res = frame\n",
    "    elif img_filter == CNY:\n",
    "        res = cv2.Canny(frame, 80, 150)\n",
    "    elif img_filter == BLR:\n",
    "        res = cv2.blur(frame, (13, 13))\n",
    "\n",
    "    cv2.imshow(win, res)\n",
    "    key = cv2.waitKey(30) & 0xFF  \n",
    "\n",
    "    if key in [ord('q'), 27]:  \n",
    "        alive = False\n",
    "    elif key == ord('c'):\n",
    "        img_filter = CNY\n",
    "    elif key == ord('b'):\n",
    "        img_filter = BLR\n",
    "    elif key == ord('p'):\n",
    "        img_filter = PRV\n",
    "\n",
    "src.release()\n",
    "cv2.destroyAllWindows()\n"
   ]
  },
  {
   "cell_type": "code",
   "execution_count": null,
   "id": "b0ba3cb4-866f-4637-b4dd-f183a5f2bff3",
   "metadata": {},
   "outputs": [],
   "source": [
    "cc"
   ]
  }
 ],
 "metadata": {
  "kernelspec": {
   "display_name": "Python 3 (ipykernel)",
   "language": "python",
   "name": "python3"
  },
  "language_info": {
   "codemirror_mode": {
    "name": "ipython",
    "version": 3
   },
   "file_extension": ".py",
   "mimetype": "text/x-python",
   "name": "python",
   "nbconvert_exporter": "python",
   "pygments_lexer": "ipython3",
   "version": "3.12.4"
  }
 },
 "nbformat": 4,
 "nbformat_minor": 5
}
